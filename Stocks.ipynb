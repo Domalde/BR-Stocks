{
 "cells": [
  {
   "cell_type": "code",
   "execution_count": 227,
   "metadata": {},
   "outputs": [],
   "source": [
    "from selenium import webdriver\n",
    "from selenium.webdriver.chrome.service import Service\n",
    "from webdriver_manager.chrome import ChromeDriverManager\n",
    "from selenium.webdriver.common.by import By\n",
    "import pandas as pd"
   ]
  },
  {
   "cell_type": "code",
   "execution_count": 230,
   "metadata": {},
   "outputs": [],
   "source": [
    "stokes = ['CMIG4','TIET11']"
   ]
  },
  {
   "cell_type": "code",
   "execution_count": 231,
   "metadata": {},
   "outputs": [],
   "source": [
    "matriz = []\n",
    "\n",
    "for i in stokes:\n",
    "    driver = webdriver.Chrome(service=Service(ChromeDriverManager().install()))\n",
    "    driver.get(f\"https://statusinvest.com.br/acoes/{i}\")\n",
    "    \n",
    "    valor_atual = driver.find_element(By.XPATH, '//*[@id=\"main-2\"]/div[2]/div/div[1]/div/div[1]/div/div[1]/strong').get_attribute('innerHTML')\n",
    "    min_52sem = driver.find_element(By.XPATH, '//*[@id=\"main-2\"]/div[2]/div/div[1]/div/div[2]/div/div[1]/strong').get_attribute('innerHTML')\n",
    "    max_52sem = driver.find_element(By.XPATH, '//*[@id=\"main-2\"]/div[2]/div/div[1]/div/div[3]/div/div[1]/strong').get_attribute('innerHTML')\n",
    "    dividend_yield12m = driver.find_element(By.XPATH, '//*[@id=\"indicators-section\"]/div[2]/div/div[1]/div/div[1]/div/div/strong').get_attribute('innerHTML')\n",
    "    pl = driver.find_element(By.XPATH, '//*[@id=\"indicators-section\"]/div[2]/div/div[1]/div/div[2]/div/div/strong').get_attribute('innerHTML')\n",
    "    pvp = driver.find_element(By.XPATH, '//*[@id=\"indicators-section\"]/div[2]/div/div[1]/div/div[4]/div/div/strong').get_attribute('innerHTML')\n",
    "    ev_ebitda = driver.find_element(By.XPATH, '//*[@id=\"indicators-section\"]/div[2]/div/div[1]/div/div[5]/div/div/strong').get_attribute('innerHTML')\n",
    "    ev_ebit = driver.find_element(By.XPATH, '//*[@id=\"indicators-section\"]/div[2]/div/div[1]/div/div[6]/div/div/strong').get_attribute('innerHTML')\n",
    "    p_ebitida = driver.find_element(By.XPATH, '//*[@id=\"indicators-section\"]/div[2]/div/div[1]/div/div[7]/div/div/strong').get_attribute('innerHTML')\n",
    "    p_ebit = driver.find_element(By.XPATH, '//*[@id=\"indicators-section\"]/div[2]/div/div[1]/div/div[8]/div/div/strong').get_attribute('innerHTML')\n",
    "    vpa = driver.find_element(By.XPATH, '//*[@id=\"indicators-section\"]/div[2]/div/div[1]/div/div[9]/div/div/strong').get_attribute('innerHTML')\n",
    "    p_ativo = driver.find_element(By.XPATH, '//*[@id=\"indicators-section\"]/div[2]/div/div[1]/div/div[10]/div/div/strong').get_attribute('innerHTML')\n",
    "    lpa = driver.find_element(By.XPATH, '//*[@id=\"indicators-section\"]/div[2]/div/div[1]/div/div[11]/div/div/strong').get_attribute('innerHTML')\n",
    "    p_sr = driver.find_element(By.XPATH, '//*[@id=\"indicators-section\"]/div[2]/div/div[1]/div/div[12]/div/div/strong').get_attribute('innerHTML')\n",
    "    p_capgiro = driver.find_element(By.XPATH, '//*[@id=\"indicators-section\"]/div[2]/div/div[1]/div/div[13]/div/div/strong').get_attribute('innerHTML')\n",
    "    p_ativo_circ_liq = driver.find_element(By.XPATH, '//*[@id=\"indicators-section\"]/div[2]/div/div[1]/div/div[14]/div/div/strong').get_attribute('innerHTML')\n",
    "    roe = driver.find_element(By.XPATH, '//*[@id=\"indicators-section\"]/div[2]/div/div[4]/div/div[1]/div/div/strong').get_attribute('innerHTML')\n",
    "    roa = driver.find_element(By.XPATH, '//*[@id=\"indicators-section\"]/div[2]/div/div[4]/div/div[2]/div/div/strong').get_attribute('innerHTML')\n",
    "    roic = driver.find_element(By.XPATH, '//*[@id=\"indicators-section\"]/div[2]/div/div[4]/div/div[3]/div/div/strong').get_attribute('innerHTML')\n",
    "    giro_ativo = driver.find_element(By.XPATH, '//*[@id=\"indicators-section\"]/div[2]/div/div[4]/div/div[4]/div/div/strong').get_attribute('innerHTML')\n",
    "\n",
    "    lista = [i, valor_atual, min_52sem, max_52sem, dividend_yield12m, pl, pvp, ev_ebitda, ev_ebit, p_ebitida, p_ebit, vpa, p_ativo, lpa, p_sr, p_capgiro, p_ativo_circ_liq, roe, roa, roic, giro_ativo]\n",
    "    matriz.append(lista)"
   ]
  },
  {
   "cell_type": "code",
   "execution_count": 232,
   "metadata": {},
   "outputs": [],
   "source": [
    "df = pd.DataFrame(matriz, columns=['Ação','Valor Atual', 'Min 52sem', 'Max 52sem', 'DY', 'P/L', 'P/VP', 'EV/Ebitda', 'EV/Ebit', 'P/Ebitda', 'P/Ebit', 'VPA', 'P/Ativo',\n",
    "                                   'VPA', 'P/SR', 'P/CapGiro', 'P/AtivoCircLiq', 'ROE', 'ROA', 'ROIC', 'Giro Ativo'])\n",
    "\n",
    "driver.close()"
   ]
  },
  {
   "cell_type": "code",
   "execution_count": 233,
   "metadata": {},
   "outputs": [
    {
     "data": {
      "text/html": [
       "<div>\n",
       "<style scoped>\n",
       "    .dataframe tbody tr th:only-of-type {\n",
       "        vertical-align: middle;\n",
       "    }\n",
       "\n",
       "    .dataframe tbody tr th {\n",
       "        vertical-align: top;\n",
       "    }\n",
       "\n",
       "    .dataframe thead th {\n",
       "        text-align: right;\n",
       "    }\n",
       "</style>\n",
       "<table border=\"1\" class=\"dataframe\">\n",
       "  <thead>\n",
       "    <tr style=\"text-align: right;\">\n",
       "      <th></th>\n",
       "      <th>Ação</th>\n",
       "      <th>Valor Atual</th>\n",
       "      <th>Min 52sem</th>\n",
       "      <th>Max 52sem</th>\n",
       "      <th>DY</th>\n",
       "      <th>P/L</th>\n",
       "      <th>P/VP</th>\n",
       "      <th>EV/Ebitda</th>\n",
       "      <th>EV/Ebit</th>\n",
       "      <th>P/Ebitda</th>\n",
       "      <th>...</th>\n",
       "      <th>VPA</th>\n",
       "      <th>P/Ativo</th>\n",
       "      <th>VPA</th>\n",
       "      <th>P/SR</th>\n",
       "      <th>P/CapGiro</th>\n",
       "      <th>P/AtivoCircLiq</th>\n",
       "      <th>ROE</th>\n",
       "      <th>ROA</th>\n",
       "      <th>ROIC</th>\n",
       "      <th>Giro Ativo</th>\n",
       "    </tr>\n",
       "  </thead>\n",
       "  <tbody>\n",
       "    <tr>\n",
       "      <th>0</th>\n",
       "      <td>CMIG4</td>\n",
       "      <td>10,96</td>\n",
       "      <td>8,59</td>\n",
       "      <td>12,65</td>\n",
       "      <td>13,98%</td>\n",
       "      <td>5,93</td>\n",
       "      <td>1,14</td>\n",
       "      <td>5,79</td>\n",
       "      <td>7,55</td>\n",
       "      <td>4,05</td>\n",
       "      <td>...</td>\n",
       "      <td>9,57</td>\n",
       "      <td>0,44</td>\n",
       "      <td>1,85</td>\n",
       "      <td>0,69</td>\n",
       "      <td>7,70</td>\n",
       "      <td>-0,61</td>\n",
       "      <td>19,31%</td>\n",
       "      <td>7,47%</td>\n",
       "      <td>13,90%</td>\n",
       "      <td>0,64</td>\n",
       "    </tr>\n",
       "    <tr>\n",
       "      <th>1</th>\n",
       "      <td>TIET11</td>\n",
       "      <td>12,54</td>\n",
       "      <td>-</td>\n",
       "      <td>-</td>\n",
       "      <td>-%</td>\n",
       "      <td>4,38</td>\n",
       "      <td>2,25</td>\n",
       "      <td>5,41</td>\n",
       "      <td>7,15</td>\n",
       "      <td>2,65</td>\n",
       "      <td>...</td>\n",
       "      <td>5,57</td>\n",
       "      <td>0,46</td>\n",
       "      <td>2,87</td>\n",
       "      <td>2,16</td>\n",
       "      <td>1.031,49</td>\n",
       "      <td>-0,52</td>\n",
       "      <td>51,45%</td>\n",
       "      <td>10,47%</td>\n",
       "      <td>13,16%</td>\n",
       "      <td>0,21</td>\n",
       "    </tr>\n",
       "  </tbody>\n",
       "</table>\n",
       "<p>2 rows × 21 columns</p>\n",
       "</div>"
      ],
      "text/plain": [
       "     Ação Valor Atual Min 52sem Max 52sem      DY   P/L  P/VP EV/Ebitda  \\\n",
       "0   CMIG4       10,96      8,59     12,65  13,98%  5,93  1,14      5,79   \n",
       "1  TIET11       12,54         -         -      -%  4,38  2,25      5,41   \n",
       "\n",
       "  EV/Ebit P/Ebitda  ...   VPA P/Ativo   VPA  P/SR P/CapGiro P/AtivoCircLiq  \\\n",
       "0    7,55     4,05  ...  9,57    0,44  1,85  0,69      7,70          -0,61   \n",
       "1    7,15     2,65  ...  5,57    0,46  2,87  2,16  1.031,49          -0,52   \n",
       "\n",
       "      ROE     ROA    ROIC Giro Ativo  \n",
       "0  19,31%   7,47%  13,90%       0,64  \n",
       "1  51,45%  10,47%  13,16%       0,21  \n",
       "\n",
       "[2 rows x 21 columns]"
      ]
     },
     "execution_count": 233,
     "metadata": {},
     "output_type": "execute_result"
    }
   ],
   "source": [
    "df"
   ]
  }
 ],
 "metadata": {
  "kernelspec": {
   "display_name": "Python 3",
   "language": "python",
   "name": "python3"
  },
  "language_info": {
   "codemirror_mode": {
    "name": "ipython",
    "version": 3
   },
   "file_extension": ".py",
   "mimetype": "text/x-python",
   "name": "python",
   "nbconvert_exporter": "python",
   "pygments_lexer": "ipython3",
   "version": "3.10.1"
  },
  "orig_nbformat": 4,
  "vscode": {
   "interpreter": {
    "hash": "61126a2d98fbfcc21203d096fc42beaf56c06b99e80a9d9717b2d18f6196eb25"
   }
  }
 },
 "nbformat": 4,
 "nbformat_minor": 2
}
